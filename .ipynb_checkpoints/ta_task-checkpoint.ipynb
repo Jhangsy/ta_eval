{
 "cells": [
  {
   "cell_type": "markdown",
   "metadata": {},
   "source": [
    "## 《天龙八部》的齐夫定律适用性分析"
   ]
  },
  {
   "cell_type": "markdown",
   "metadata": {},
   "source": [
    "### 齐夫定律"
   ]
  },
  {
   "cell_type": "markdown",
   "metadata": {},
   "source": [
    "- 定义  \n",
    " -  若热·穆南《语言学词典》  \n",
    " >“由齐夫所完成的统计语言学研究表明,一个词的刺激,符合它与其他词的关系处于统一素材之中。词是以使用频率来分类的,排列在第一的是使用频率最高的词。”\n",
    " \n",
    " - 哈特曼&斯托克《语言与语言学词典》  \n",
    ">“齐夫定律是指关于谈话者或写作者使用的词的分布和频率的总描述：$f \\times r = C$,其中，f为频率，r为词级，，即频率表上的位置之间由一个固定的比率。”\n",
    "\n",
    " - wiki\n",
    " >在自然语言的语料库里，一个单词出现的频率与它在频率表里的排名成反比.\n",
    "齐夫定律表明了单词词频(f)和词级(r)的关系：\n",
    "$f\\propto \\frac{1}{r}$ ；\n",
    "即, 存在一个参数k使得：\n",
    "$f \\times r = k$\n",
    "\n"
   ]
  },
  {
   "cell_type": "markdown",
   "metadata": {},
   "source": [
    "- 齐夫分布  \n",
    "根据文献中出现的词频与等级序号的统计数据,建立与的直角坐标系,用横坐标表示词的等级序号,纵坐标表示相应的频次,我们就可以得到一条双曲线,即齐夫分布曲线。如果等级序号r与频次f都取对数坐标,\n",
    "则上图中的图像就变成一条直线了,即齐夫分布对数曲线图一。这种类型的分布,就叫做齐夫分布。与之等价的数学表达式为：$\\lg{r} + \\lg{f} = \\lg{c} $  \n",
    "**注意:**这里f是频次。"
   ]
  },
  {
   "cell_type": "markdown",
   "metadata": {},
   "source": [
    "- 发展历程  \n",
    "  - J.Estuop  \n",
    "  词的绝对频率（即频次）$n_r$与它相应的词的序号$r$的乘积大体上稳定于一个常数K,即,$n_r \\cdot r = K$。\n",
    "  - E.Condon  \n",
    "  由Estoup公式提出了量化公式：$f_r = C \\cdot r^{-1}$ 其中 $C = \\frac{K}{N}，f_r 为频率$  \n",
    "  横坐标表示词的序号的对数$\\lg{r}$,纵坐标表示词的绝对频率的对数$\\log{n_r}$,绘出了词频分布的图形。Condon发现,的分布关系接近于一条直线,而与横坐标轴的夹角为45°。\n",
    "  - Zipf   \n",
    "  确定了C为参数，论证了单参数词频分布公式$P_r(f_r) = Cr^{-1}$的的正确性。\n",
    "  - M.Joos  \n",
    "  双参数公式，$P_r(f_r) = Cr^{-b}$\n",
    "  - B.Mandelbrot    \n",
    "  三参数公式，$P_r(f_r) = C(r+a)^{-b}$    \n",
    "  \n",
    " \n",
    "  虽然从齐夫定律的发展史上来看,并不是齐夫首先提出词频分布公式,但由于其做了大量艰巨的数据统计和分析工作,首先验证了这个公式的可靠性,人们为了纪念他的贡献,就把公式$f \\times r = C$命名为齐夫定律又称齐夫第一定律。\n"
   ]
  },
  {
   "cell_type": "markdown",
   "metadata": {},
   "source": [
    "- 齐夫二定律  \n",
    "齐夫定律是由两大定律组成的,即高频词出现的定律和低频词出现的定律。前面我们所探讨的齐夫确立的词频分布定律,人们又称为齐夫第一定律。  \n",
    "人们在实际的词频统计和验证中发现,齐夫所描述的经验定律仅在高频词和中频词阶段符合,而到了低频词阶段,由于同频词的大量增加,上述词频分布规律就不能很好的描述低频词的分布了。  \n",
    "关于低频词分布的定律则被称为齐夫第二定律：如果设$P_r$为第r位词出现的概率,N为文本集合中的总词次,n为词级为r的词出现的频次,。$I_n$为出现频次为的同频词数,$I_1$为出现频次为的同频词数。那么经过推导可得出：$\\frac{I_n}{I_1} = \\frac{CN/[n(n+1)]}{CN/2}=\\frac{2}{n(n+1)},(n = 2,3,4...)$,即为齐夫第二定律。\n",
    "\n",
    "\n"
   ]
  },
  {
   "cell_type": "markdown",
   "metadata": {},
   "source": [
    "### 构建《天龙八部》语料库"
   ]
  },
  {
   "cell_type": "code",
   "execution_count": 1,
   "metadata": {
    "collapsed": false
   },
   "outputs": [],
   "source": [
    "import jieba\n",
    "import numpy as np\n",
    "import pandas as pd"
   ]
  },
  {
   "cell_type": "code",
   "execution_count": 2,
   "metadata": {
    "collapsed": false
   },
   "outputs": [],
   "source": [
    "# load file\n",
    "import codecs\n",
    "file = codecs.open(\"Dragon.txt\",'r','gb18030')\n",
    "content = file.read()\n",
    "file.close()\n"
   ]
  },
  {
   "cell_type": "code",
   "execution_count": 3,
   "metadata": {
    "collapsed": false
   },
   "outputs": [],
   "source": [
    "#remove punct\n",
    "punct = set(u'''\n",
    "    '\\uFF02\\uFF03\\uFF04\\uFF05\\uFF06\\uFF07\\uFF08\\uFF09\\uFF0A\\uFF0B\\uFF0C\\uFF0D'\n",
    "    '\\uFF0F\\uFF1A\\uFF1B\\uFF1C\\uFF1D\\uFF1E\\uFF20\\uFF3B\\uFF3C\\uFF3D\\uFF3E\\uFF3F'\n",
    "    '\\uFF40\\uFF5B\\uFF5C\\uFF5D\\uFF5E\\uFF5F\\uFF60'\n",
    "    '\\uFF62\\uFF63\\uFF64'\n",
    "    '\\u3000\\u3001\\u3003'\n",
    "    '\\u300B\\u300C\\u300D\\u300E\\u300F\\u3010\\u3011'\n",
    "    '\\u3014\\u3015\\u3016\\u3017\\u3018\\u3019\\u301A\\u301B\\u301C\\u301D\\u301E\\u301F'\n",
    "    '\\u3030'\n",
    "    '\\u303E\\u303F'\n",
    "    '\\u2013\\u2014'\n",
    "    '\\u2018\\u2019\\u201B\\u201C\\u201D\\u201E\\u201F'\n",
    "    '\\u2026\\u2027'\n",
    "    '\\uFE4F\n",
    "    '\\uFF01'\n",
    "    '\\uFF1F'\n",
    "    '\\uFF61'\n",
    "    '\\u3002'\n",
    "    '\\u0021-\\u002f\\u003a-\\u0040\\u005b-\\u0060\\u007b-\\u007e'\n",
    "    \\r\n",
    "    ''')"
   ]
  },
  {
   "cell_type": "code",
   "execution_count": 4,
   "metadata": {
    "collapsed": true
   },
   "outputs": [],
   "source": [
    "filterpunct = lambda s:''.join(filter(lambda x : x not in punct, s))"
   ]
  },
  {
   "cell_type": "code",
   "execution_count": 5,
   "metadata": {
    "collapsed": true
   },
   "outputs": [],
   "source": [
    "_content = filterpunct(content)"
   ]
  },
  {
   "cell_type": "code",
   "execution_count": 6,
   "metadata": {
    "collapsed": false
   },
   "outputs": [
    {
     "name": "stderr",
     "output_type": "stream",
     "text": [
      "Building prefix dict from D:\\Anaconda2\\lib\\site-packages\\jieba\\dict.txt ...\n",
      "Loading model from cache c:\\users\\admin\\appdata\\local\\temp\\jieba.cache\n",
      "Loading model cost 0.386999845505 seconds.\n",
      "Prefix dict has been built succesfully.\n"
     ]
    }
   ],
   "source": [
    "# 添加人物门派武功的字典\n",
    "jieba.load_userdict(\"name_dic\")"
   ]
  },
  {
   "cell_type": "code",
   "execution_count": 7,
   "metadata": {
    "collapsed": false
   },
   "outputs": [],
   "source": [
    "segments = []\n",
    "segs = jieba.cut(_content)\n",
    "for i in segs:\n",
    "        segments.append(i)"
   ]
  },
  {
   "cell_type": "code",
   "execution_count": 8,
   "metadata": {
    "collapsed": true
   },
   "outputs": [],
   "source": [
    "segmentDF = pd.DataFrame({'segment':segments})"
   ]
  },
  {
   "cell_type": "code",
   "execution_count": 9,
   "metadata": {
    "collapsed": false,
    "scrolled": true
   },
   "outputs": [
    {
     "data": {
      "text/html": [
       "<div>\n",
       "<table border=\"1\" class=\"dataframe\">\n",
       "  <thead>\n",
       "    <tr style=\"text-align: right;\">\n",
       "      <th></th>\n",
       "      <th>segment</th>\n",
       "    </tr>\n",
       "  </thead>\n",
       "  <tbody>\n",
       "    <tr>\n",
       "      <th>0</th>\n",
       "      <td>天龙八部</td>\n",
       "    </tr>\n",
       "    <tr>\n",
       "      <th>1</th>\n",
       "      <td>一</td>\n",
       "    </tr>\n",
       "    <tr>\n",
       "      <th>2</th>\n",
       "      <td>少年游</td>\n",
       "    </tr>\n",
       "    <tr>\n",
       "      <th>3</th>\n",
       "      <td>青衫</td>\n",
       "    </tr>\n",
       "    <tr>\n",
       "      <th>4</th>\n",
       "      <td>磊落</td>\n",
       "    </tr>\n",
       "  </tbody>\n",
       "</table>\n",
       "</div>"
      ],
      "text/plain": [
       "  segment\n",
       "0    天龙八部\n",
       "1       一\n",
       "2     少年游\n",
       "3      青衫\n",
       "4      磊落"
      ]
     },
     "execution_count": 9,
     "metadata": {},
     "output_type": "execute_result"
    }
   ],
   "source": [
    "segmentDF.head()"
   ]
  },
  {
   "cell_type": "code",
   "execution_count": 10,
   "metadata": {
    "collapsed": true
   },
   "outputs": [],
   "source": [
    "counts= segmentDF.groupby('segment').size()"
   ]
  },
  {
   "cell_type": "code",
   "execution_count": 11,
   "metadata": {
    "collapsed": true
   },
   "outputs": [],
   "source": [
    "seg_num_DF = pd.DataFrame({'counts':counts})"
   ]
  },
  {
   "cell_type": "code",
   "execution_count": 12,
   "metadata": {
    "collapsed": false
   },
   "outputs": [
    {
     "name": "stderr",
     "output_type": "stream",
     "text": [
      "D:\\Anaconda2\\lib\\site-packages\\ipykernel\\__main__.py:1: FutureWarning: sort(columns=....) is deprecated, use sort_values(by=.....)\n",
      "  if __name__ == '__main__':\n"
     ]
    }
   ],
   "source": [
    "seg_rank_DF = seg_num_DF.sort([\"counts\"],ascending = False)"
   ]
  },
  {
   "cell_type": "code",
   "execution_count": 13,
   "metadata": {
    "collapsed": false,
    "scrolled": true
   },
   "outputs": [
    {
     "data": {
      "text/html": [
       "<div>\n",
       "<table border=\"1\" class=\"dataframe\">\n",
       "  <thead>\n",
       "    <tr style=\"text-align: right;\">\n",
       "      <th></th>\n",
       "      <th>counts</th>\n",
       "    </tr>\n",
       "    <tr>\n",
       "      <th>segment</th>\n",
       "      <th></th>\n",
       "    </tr>\n",
       "  </thead>\n",
       "  <tbody>\n",
       "    <tr>\n",
       "      <th>的</th>\n",
       "      <td>17455</td>\n",
       "    </tr>\n",
       "    <tr>\n",
       "      <th>了</th>\n",
       "      <td>14290</td>\n",
       "    </tr>\n",
       "    <tr>\n",
       "      <th>我</th>\n",
       "      <td>9704</td>\n",
       "    </tr>\n",
       "    <tr>\n",
       "      <th>是</th>\n",
       "      <td>9544</td>\n",
       "    </tr>\n",
       "    <tr>\n",
       "      <th>你</th>\n",
       "      <td>9451</td>\n",
       "    </tr>\n",
       "  </tbody>\n",
       "</table>\n",
       "</div>"
      ],
      "text/plain": [
       "         counts\n",
       "segment        \n",
       "的         17455\n",
       "了         14290\n",
       "我          9704\n",
       "是          9544\n",
       "你          9451"
      ]
     },
     "execution_count": 13,
     "metadata": {},
     "output_type": "execute_result"
    }
   ],
   "source": [
    "seg_rank_DF.head()"
   ]
  },
  {
   "cell_type": "code",
   "execution_count": 14,
   "metadata": {
    "collapsed": true
   },
   "outputs": [],
   "source": [
    "#relative frequncy\n",
    "seg_rank_DF[\"freq\"] = seg_rank_DF[\"counts\"]/seg_rank_DF[\"counts\"].sum()"
   ]
  },
  {
   "cell_type": "code",
   "execution_count": 15,
   "metadata": {
    "collapsed": false,
    "scrolled": false
   },
   "outputs": [
    {
     "data": {
      "text/html": [
       "<div>\n",
       "<table border=\"1\" class=\"dataframe\">\n",
       "  <thead>\n",
       "    <tr style=\"text-align: right;\">\n",
       "      <th></th>\n",
       "      <th>counts</th>\n",
       "      <th>freq</th>\n",
       "    </tr>\n",
       "    <tr>\n",
       "      <th>segment</th>\n",
       "      <th></th>\n",
       "      <th></th>\n",
       "    </tr>\n",
       "  </thead>\n",
       "  <tbody>\n",
       "    <tr>\n",
       "      <th>的</th>\n",
       "      <td>17455</td>\n",
       "      <td>0.029022</td>\n",
       "    </tr>\n",
       "    <tr>\n",
       "      <th>了</th>\n",
       "      <td>14290</td>\n",
       "      <td>0.023759</td>\n",
       "    </tr>\n",
       "    <tr>\n",
       "      <th>我</th>\n",
       "      <td>9704</td>\n",
       "      <td>0.016134</td>\n",
       "    </tr>\n",
       "    <tr>\n",
       "      <th>是</th>\n",
       "      <td>9544</td>\n",
       "      <td>0.015868</td>\n",
       "    </tr>\n",
       "    <tr>\n",
       "      <th>你</th>\n",
       "      <td>9451</td>\n",
       "      <td>0.015714</td>\n",
       "    </tr>\n",
       "  </tbody>\n",
       "</table>\n",
       "</div>"
      ],
      "text/plain": [
       "         counts      freq\n",
       "segment                  \n",
       "的         17455  0.029022\n",
       "了         14290  0.023759\n",
       "我          9704  0.016134\n",
       "是          9544  0.015868\n",
       "你          9451  0.015714"
      ]
     },
     "execution_count": 15,
     "metadata": {},
     "output_type": "execute_result"
    }
   ],
   "source": [
    "seg_rank_DF.head()"
   ]
  },
  {
   "cell_type": "markdown",
   "metadata": {},
   "source": [
    "#### 确定词级\n",
    "遇到同频词有随机法、并列法、最小值法、最大值法。这里采用**最小值**法确定词级。  \n",
    ">- 采用随机法必定会造成词级数据的无限增大,从而使得词频统计和分析不再具有实际的可行性。\n",
    "- 并列法把不同数量和不同词序的同频词均视为一个词,这就造成其统计结果并不能完整地概括和体现频率词表的全貌,尤其是到了低频词段以后,同频词大量出现,其数量甚至能超过高频词的好几倍,忽视低频词是明显不适合的。"
   ]
  },
  {
   "cell_type": "code",
   "execution_count": 16,
   "metadata": {
    "collapsed": false
   },
   "outputs": [],
   "source": [
    "seg_rank_DF[\"rank\"] = seg_rank_DF[\"freq\"].rank(method = 'min', ascending = False)"
   ]
  },
  {
   "cell_type": "code",
   "execution_count": 17,
   "metadata": {
    "collapsed": false,
    "scrolled": true
   },
   "outputs": [
    {
     "data": {
      "text/html": [
       "<div>\n",
       "<table border=\"1\" class=\"dataframe\">\n",
       "  <thead>\n",
       "    <tr style=\"text-align: right;\">\n",
       "      <th></th>\n",
       "      <th>counts</th>\n",
       "      <th>freq</th>\n",
       "      <th>rank</th>\n",
       "    </tr>\n",
       "    <tr>\n",
       "      <th>segment</th>\n",
       "      <th></th>\n",
       "      <th></th>\n",
       "      <th></th>\n",
       "    </tr>\n",
       "  </thead>\n",
       "  <tbody>\n",
       "    <tr>\n",
       "      <th>的</th>\n",
       "      <td>17455</td>\n",
       "      <td>0.029022</td>\n",
       "      <td>1.0</td>\n",
       "    </tr>\n",
       "    <tr>\n",
       "      <th>了</th>\n",
       "      <td>14290</td>\n",
       "      <td>0.023759</td>\n",
       "      <td>2.0</td>\n",
       "    </tr>\n",
       "    <tr>\n",
       "      <th>我</th>\n",
       "      <td>9704</td>\n",
       "      <td>0.016134</td>\n",
       "      <td>3.0</td>\n",
       "    </tr>\n",
       "    <tr>\n",
       "      <th>是</th>\n",
       "      <td>9544</td>\n",
       "      <td>0.015868</td>\n",
       "      <td>4.0</td>\n",
       "    </tr>\n",
       "    <tr>\n",
       "      <th>你</th>\n",
       "      <td>9451</td>\n",
       "      <td>0.015714</td>\n",
       "      <td>5.0</td>\n",
       "    </tr>\n",
       "  </tbody>\n",
       "</table>\n",
       "</div>"
      ],
      "text/plain": [
       "         counts      freq  rank\n",
       "segment                        \n",
       "的         17455  0.029022   1.0\n",
       "了         14290  0.023759   2.0\n",
       "我          9704  0.016134   3.0\n",
       "是          9544  0.015868   4.0\n",
       "你          9451  0.015714   5.0"
      ]
     },
     "execution_count": 17,
     "metadata": {},
     "output_type": "execute_result"
    }
   ],
   "source": [
    "seg_rank_DF.head()"
   ]
  },
  {
   "cell_type": "code",
   "execution_count": 18,
   "metadata": {
    "collapsed": false,
    "scrolled": false
   },
   "outputs": [
    {
     "data": {
      "text/html": [
       "<div>\n",
       "<table border=\"1\" class=\"dataframe\">\n",
       "  <thead>\n",
       "    <tr style=\"text-align: right;\">\n",
       "      <th></th>\n",
       "      <th>counts</th>\n",
       "      <th>freq</th>\n",
       "      <th>rank</th>\n",
       "    </tr>\n",
       "    <tr>\n",
       "      <th>segment</th>\n",
       "      <th></th>\n",
       "      <th></th>\n",
       "      <th></th>\n",
       "    </tr>\n",
       "  </thead>\n",
       "  <tbody>\n",
       "    <tr>\n",
       "      <th>泥水</th>\n",
       "      <td>1</td>\n",
       "      <td>0.000002</td>\n",
       "      <td>26163.0</td>\n",
       "    </tr>\n",
       "    <tr>\n",
       "      <th>呼唤声</th>\n",
       "      <td>1</td>\n",
       "      <td>0.000002</td>\n",
       "      <td>26163.0</td>\n",
       "    </tr>\n",
       "    <tr>\n",
       "      <th>呼噜</th>\n",
       "      <td>1</td>\n",
       "      <td>0.000002</td>\n",
       "      <td>26163.0</td>\n",
       "    </tr>\n",
       "    <tr>\n",
       "      <th>泥处</th>\n",
       "      <td>1</td>\n",
       "      <td>0.000002</td>\n",
       "      <td>26163.0</td>\n",
       "    </tr>\n",
       "    <tr>\n",
       "      <th>指系</th>\n",
       "      <td>1</td>\n",
       "      <td>0.000002</td>\n",
       "      <td>26163.0</td>\n",
       "    </tr>\n",
       "  </tbody>\n",
       "</table>\n",
       "</div>"
      ],
      "text/plain": [
       "         counts      freq     rank\n",
       "segment                           \n",
       "泥水            1  0.000002  26163.0\n",
       "呼唤声           1  0.000002  26163.0\n",
       "呼噜            1  0.000002  26163.0\n",
       "泥处            1  0.000002  26163.0\n",
       "指系            1  0.000002  26163.0"
      ]
     },
     "execution_count": 18,
     "metadata": {},
     "output_type": "execute_result"
    }
   ],
   "source": [
    "seg_rank_DF.tail()"
   ]
  },
  {
   "cell_type": "code",
   "execution_count": 19,
   "metadata": {
    "collapsed": false
   },
   "outputs": [
    {
     "data": {
      "text/html": [
       "<div>\n",
       "<table border=\"1\" class=\"dataframe\">\n",
       "  <thead>\n",
       "    <tr style=\"text-align: right;\">\n",
       "      <th></th>\n",
       "      <th>counts</th>\n",
       "      <th>freq</th>\n",
       "      <th>rank</th>\n",
       "      <th>const_C</th>\n",
       "    </tr>\n",
       "    <tr>\n",
       "      <th>segment</th>\n",
       "      <th></th>\n",
       "      <th></th>\n",
       "      <th></th>\n",
       "      <th></th>\n",
       "    </tr>\n",
       "  </thead>\n",
       "  <tbody>\n",
       "    <tr>\n",
       "      <th>的</th>\n",
       "      <td>17455</td>\n",
       "      <td>0.029022</td>\n",
       "      <td>1.0</td>\n",
       "      <td>0.029022</td>\n",
       "    </tr>\n",
       "    <tr>\n",
       "      <th>了</th>\n",
       "      <td>14290</td>\n",
       "      <td>0.023759</td>\n",
       "      <td>2.0</td>\n",
       "      <td>0.047519</td>\n",
       "    </tr>\n",
       "    <tr>\n",
       "      <th>我</th>\n",
       "      <td>9704</td>\n",
       "      <td>0.016134</td>\n",
       "      <td>3.0</td>\n",
       "      <td>0.048403</td>\n",
       "    </tr>\n",
       "    <tr>\n",
       "      <th>是</th>\n",
       "      <td>9544</td>\n",
       "      <td>0.015868</td>\n",
       "      <td>4.0</td>\n",
       "      <td>0.063474</td>\n",
       "    </tr>\n",
       "    <tr>\n",
       "      <th>你</th>\n",
       "      <td>9451</td>\n",
       "      <td>0.015714</td>\n",
       "      <td>5.0</td>\n",
       "      <td>0.078569</td>\n",
       "    </tr>\n",
       "  </tbody>\n",
       "</table>\n",
       "</div>"
      ],
      "text/plain": [
       "         counts      freq  rank   const_C\n",
       "segment                                  \n",
       "的         17455  0.029022   1.0  0.029022\n",
       "了         14290  0.023759   2.0  0.047519\n",
       "我          9704  0.016134   3.0  0.048403\n",
       "是          9544  0.015868   4.0  0.063474\n",
       "你          9451  0.015714   5.0  0.078569"
      ]
     },
     "execution_count": 19,
     "metadata": {},
     "output_type": "execute_result"
    }
   ],
   "source": [
    "#constant\n",
    "seg_rank_DF[\"const_C\"] = seg_rank_DF[\"rank\"]*seg_rank_DF[\"freq\"]\n",
    "seg_rank_DF.head()"
   ]
  },
  {
   "cell_type": "code",
   "execution_count": 20,
   "metadata": {
    "collapsed": false,
    "scrolled": true
   },
   "outputs": [
    {
     "data": {
      "text/html": [
       "<div>\n",
       "<table border=\"1\" class=\"dataframe\">\n",
       "  <thead>\n",
       "    <tr style=\"text-align: right;\">\n",
       "      <th></th>\n",
       "      <th>counts</th>\n",
       "      <th>freq</th>\n",
       "      <th>rank</th>\n",
       "      <th>const_C</th>\n",
       "    </tr>\n",
       "    <tr>\n",
       "      <th>segment</th>\n",
       "      <th></th>\n",
       "      <th></th>\n",
       "      <th></th>\n",
       "      <th></th>\n",
       "    </tr>\n",
       "  </thead>\n",
       "  <tbody>\n",
       "    <tr>\n",
       "      <th>泥水</th>\n",
       "      <td>1</td>\n",
       "      <td>0.000002</td>\n",
       "      <td>26163.0</td>\n",
       "      <td>0.0435</td>\n",
       "    </tr>\n",
       "    <tr>\n",
       "      <th>呼唤声</th>\n",
       "      <td>1</td>\n",
       "      <td>0.000002</td>\n",
       "      <td>26163.0</td>\n",
       "      <td>0.0435</td>\n",
       "    </tr>\n",
       "    <tr>\n",
       "      <th>呼噜</th>\n",
       "      <td>1</td>\n",
       "      <td>0.000002</td>\n",
       "      <td>26163.0</td>\n",
       "      <td>0.0435</td>\n",
       "    </tr>\n",
       "    <tr>\n",
       "      <th>泥处</th>\n",
       "      <td>1</td>\n",
       "      <td>0.000002</td>\n",
       "      <td>26163.0</td>\n",
       "      <td>0.0435</td>\n",
       "    </tr>\n",
       "    <tr>\n",
       "      <th>指系</th>\n",
       "      <td>1</td>\n",
       "      <td>0.000002</td>\n",
       "      <td>26163.0</td>\n",
       "      <td>0.0435</td>\n",
       "    </tr>\n",
       "  </tbody>\n",
       "</table>\n",
       "</div>"
      ],
      "text/plain": [
       "         counts      freq     rank  const_C\n",
       "segment                                    \n",
       "泥水            1  0.000002  26163.0   0.0435\n",
       "呼唤声           1  0.000002  26163.0   0.0435\n",
       "呼噜            1  0.000002  26163.0   0.0435\n",
       "泥处            1  0.000002  26163.0   0.0435\n",
       "指系            1  0.000002  26163.0   0.0435"
      ]
     },
     "execution_count": 20,
     "metadata": {},
     "output_type": "execute_result"
    }
   ],
   "source": [
    "seg_rank_DF.tail()"
   ]
  },
  {
   "cell_type": "code",
   "execution_count": 21,
   "metadata": {
    "collapsed": false,
    "scrolled": true
   },
   "outputs": [
    {
     "data": {
      "text/html": [
       "<div>\n",
       "<table border=\"1\" class=\"dataframe\">\n",
       "  <thead>\n",
       "    <tr style=\"text-align: right;\">\n",
       "      <th></th>\n",
       "      <th>counts</th>\n",
       "      <th>freq</th>\n",
       "      <th>rank</th>\n",
       "      <th>const_C</th>\n",
       "      <th>log_freq</th>\n",
       "      <th>log_rank</th>\n",
       "      <th>log_counts</th>\n",
       "    </tr>\n",
       "    <tr>\n",
       "      <th>segment</th>\n",
       "      <th></th>\n",
       "      <th></th>\n",
       "      <th></th>\n",
       "      <th></th>\n",
       "      <th></th>\n",
       "      <th></th>\n",
       "      <th></th>\n",
       "    </tr>\n",
       "  </thead>\n",
       "  <tbody>\n",
       "    <tr>\n",
       "      <th>的</th>\n",
       "      <td>17455</td>\n",
       "      <td>0.029022</td>\n",
       "      <td>1.0</td>\n",
       "      <td>0.029022</td>\n",
       "      <td>-3.539712</td>\n",
       "      <td>0.000000</td>\n",
       "      <td>9.767381</td>\n",
       "    </tr>\n",
       "    <tr>\n",
       "      <th>了</th>\n",
       "      <td>14290</td>\n",
       "      <td>0.023759</td>\n",
       "      <td>2.0</td>\n",
       "      <td>0.047519</td>\n",
       "      <td>-3.739778</td>\n",
       "      <td>0.693147</td>\n",
       "      <td>9.567315</td>\n",
       "    </tr>\n",
       "    <tr>\n",
       "      <th>我</th>\n",
       "      <td>9704</td>\n",
       "      <td>0.016134</td>\n",
       "      <td>3.0</td>\n",
       "      <td>0.048403</td>\n",
       "      <td>-4.126800</td>\n",
       "      <td>1.098612</td>\n",
       "      <td>9.180293</td>\n",
       "    </tr>\n",
       "    <tr>\n",
       "      <th>是</th>\n",
       "      <td>9544</td>\n",
       "      <td>0.015868</td>\n",
       "      <td>4.0</td>\n",
       "      <td>0.063474</td>\n",
       "      <td>-4.143426</td>\n",
       "      <td>1.386294</td>\n",
       "      <td>9.163668</td>\n",
       "    </tr>\n",
       "    <tr>\n",
       "      <th>你</th>\n",
       "      <td>9451</td>\n",
       "      <td>0.015714</td>\n",
       "      <td>5.0</td>\n",
       "      <td>0.078569</td>\n",
       "      <td>-4.153218</td>\n",
       "      <td>1.609438</td>\n",
       "      <td>9.153876</td>\n",
       "    </tr>\n",
       "  </tbody>\n",
       "</table>\n",
       "</div>"
      ],
      "text/plain": [
       "         counts      freq  rank   const_C  log_freq  log_rank  log_counts\n",
       "segment                                                                  \n",
       "的         17455  0.029022   1.0  0.029022 -3.539712  0.000000    9.767381\n",
       "了         14290  0.023759   2.0  0.047519 -3.739778  0.693147    9.567315\n",
       "我          9704  0.016134   3.0  0.048403 -4.126800  1.098612    9.180293\n",
       "是          9544  0.015868   4.0  0.063474 -4.143426  1.386294    9.163668\n",
       "你          9451  0.015714   5.0  0.078569 -4.153218  1.609438    9.153876"
      ]
     },
     "execution_count": 21,
     "metadata": {},
     "output_type": "execute_result"
    }
   ],
   "source": [
    "# logarithm\n",
    "seg_rank_DF[\"log_freq\"] = np.log(seg_rank_DF[\"freq\"])\n",
    "seg_rank_DF[\"log_rank\"] = np.log(seg_rank_DF[\"rank\"])\n",
    "seg_rank_DF[\"log_counts\"] = np.log(seg_rank_DF[\"counts\"])\n",
    "seg_rank_DF.head()"
   ]
  },
  {
   "cell_type": "markdown",
   "metadata": {},
   "source": [
    "### 验证齐夫定律"
   ]
  },
  {
   "cell_type": "code",
   "execution_count": 22,
   "metadata": {
    "collapsed": false
   },
   "outputs": [],
   "source": [
    "%matplotlib inline\n",
    "import matplotlib.pyplot as plt"
   ]
  },
  {
   "cell_type": "code",
   "execution_count": 23,
   "metadata": {
    "collapsed": true
   },
   "outputs": [],
   "source": [
    "import statsmodels.api as sm\n",
    "import statsmodels.formula.api as smf"
   ]
  },
  {
   "cell_type": "code",
   "execution_count": 24,
   "metadata": {
    "collapsed": false
   },
   "outputs": [],
   "source": [
    " model = smf.ols(\"log_counts~log_rank\",seg_rank_DF )"
   ]
  },
  {
   "cell_type": "code",
   "execution_count": 25,
   "metadata": {
    "collapsed": true
   },
   "outputs": [],
   "source": [
    "result = model.fit()"
   ]
  },
  {
   "cell_type": "code",
   "execution_count": 26,
   "metadata": {
    "collapsed": false,
    "scrolled": false
   },
   "outputs": [
    {
     "name": "stdout",
     "output_type": "stream",
     "text": [
      "                            OLS Regression Results                            \n",
      "==============================================================================\n",
      "Dep. Variable:             log_counts   R-squared:                       0.976\n",
      "Model:                            OLS   Adj. R-squared:                  0.976\n",
      "Method:                 Least Squares   F-statistic:                 2.201e+06\n",
      "Date:                Sat, 26 Nov 2016   Prob (F-statistic):               0.00\n",
      "Time:                        22:52:04   Log-Likelihood:                 15601.\n",
      "No. Observations:               53680   AIC:                        -3.120e+04\n",
      "Df Residuals:                   53678   BIC:                        -3.118e+04\n",
      "Df Model:                           1                                         \n",
      "Covariance Type:            nonrobust                                         \n",
      "==============================================================================\n",
      "                 coef    std err          t      P>|t|      [95.0% Conf. Int.]\n",
      "------------------------------------------------------------------------------\n",
      "Intercept     13.8394      0.009   1573.210      0.000        13.822    13.857\n",
      "log_rank      -1.3490      0.001  -1483.452      0.000        -1.351    -1.347\n",
      "==============================================================================\n",
      "Omnibus:                    33162.344   Durbin-Watson:                   0.001\n",
      "Prob(Omnibus):                  0.000   Jarque-Bera (JB):          1470017.269\n",
      "Skew:                          -2.350   Prob(JB):                         0.00\n",
      "Kurtosis:                      28.202   Cond. No.                         110.\n",
      "==============================================================================\n",
      "\n",
      "Warnings:\n",
      "[1] Standard Errors assume that the covariance matrix of the errors is correctly specified.\n"
     ]
    }
   ],
   "source": [
    "print(result.summary())"
   ]
  },
  {
   "cell_type": "markdown",
   "metadata": {},
   "source": [
    "**Note:** $R^{2}$很大，线性回归拟合良好。"
   ]
  },
  {
   "cell_type": "code",
   "execution_count": 27,
   "metadata": {
    "collapsed": false,
    "scrolled": false
   },
   "outputs": [
    {
     "data": {
      "image/png": "[encoded data removed]",
      "text/plain": [
       "<matplotlib.figure.Figure at 0x131ce2e8>"
      ]
     },
     "metadata": {},
     "output_type": "display_data"
    }
   ],
   "source": [
    "fig, ax = plt.subplots(2,1, figsize = (10,18))\n",
    "\n",
    "ax[0].plot(seg_rank_DF[\"rank\"],seg_rank_DF[\"counts\"])\n",
    "ax[0].scatter(seg_rank_DF[\"rank\"],seg_rank_DF[\"counts\"], s = 5)\n",
    "ax[0].set_title(\"hyperbolic curve\")\n",
    "ax[0].set_xlabel(\"rank\")\n",
    "ax[0].set_ylabel(\"frequency\")\n",
    "\n",
    "ax[1].plot(seg_rank_DF[\"log_rank\"],seg_rank_DF[\"log_counts\"], label = \"actual data\", marker ='o', ms = 3)\n",
    "ax[1].set_title(\"log-log curve \")\n",
    "ax[1].set_xlabel(\"logarithm of rank\")\n",
    "ax[1].set_ylabel(\"logarithm of frequency\")\n",
    "_x = np.array([2,12])\n",
    "ax[1].plot(_x, _x*result.params[\"log_rank\"] + result.params[\"Intercept\"], label = \"regression line\")\n",
    "\n",
    "ax[1].legend()\n",
    "fig.tight_layout()"
   ]
  },
  {
   "cell_type": "markdown",
   "metadata": {},
   "source": [
    "- 结论  \n",
    "  - 极高频词、中高频词和低频词分化明显。极高频词,虽然数量很少,其频次与绝大多数词语的频次差距却极大。低频词则呈现出恰恰相反的状况,随着词级的增长,频次也急剧下降,到了占总词数绝大多数的低频词阶段,其函数曲线递减性已经远远不如其在极高频和高频区间内的递减趋势。这表明,齐夫曲线的分布特征主要集中在高频词和中频词上。\n",
    "\n",
    "  - 而齐夫对数分布曲线则只在低频词出现些许抛物线似下落未出现很明显的分化。这是因为频次和词级的数据取自然对数以后,其取值区间相较频次和词级的取值区间就稳定得多,同时通过对齐夫对数散点分布拟合趋势线的斜度,就能判断其与齐夫第一定律基本吻合,而分析其测定系数$R^2$值为0.98,也能够判断回归效果很好。  \n",
    "\n",
    "  - 因此，齐夫第一定律在《天龙八部》中高频词中具有较好的适用性。但是由于齐夫第一定律只揭示了高频词的分布规律,对于同频词的低频词来说,齐夫第一定律就不能完全涵盖其分布特征了,这就需要对齐夫第二定律进进行验证,以确定在低频词段词频分布是否符合齐夫定律。"
   ]
  },
  {
   "cell_type": "markdown",
   "metadata": {
    "collapsed": true
   },
   "source": [
    "#### 齐夫第二定律"
   ]
  },
  {
   "cell_type": "markdown",
   "metadata": {
    "collapsed": true
   },
   "source": [
    "由$\\frac{I_n}{I_1}=\\frac{2}{n(n+1)},(n = 2,3,4...)$，可得\n",
    "$I_n =\\frac{2I_1}{n(n+1)}$, $I_1$为出现频次为1的同频词次数，这里为已知，可由此预测《天龙八部》中各个频次的同频词个数，并以此来验证其是否符合齐夫第二定律。"
   ]
  },
  {
   "cell_type": "code",
   "execution_count": 28,
   "metadata": {
    "collapsed": false
   },
   "outputs": [],
   "source": [
    "#true numbers of words with same frequncy\n",
    "I_n_true = seg_rank_DF.groupby(\"counts\").size()"
   ]
  },
  {
   "cell_type": "code",
   "execution_count": 29,
   "metadata": {
    "collapsed": false
   },
   "outputs": [],
   "source": [
    "I_1 = I_n_true[1]"
   ]
  },
  {
   "cell_type": "code",
   "execution_count": 30,
   "metadata": {
    "collapsed": true
   },
   "outputs": [],
   "source": [
    "# ture word ranks\n",
    "n_true = I_n_true.index"
   ]
  },
  {
   "cell_type": "code",
   "execution_count": 31,
   "metadata": {
    "collapsed": false
   },
   "outputs": [],
   "source": [
    "# max rank\n",
    "n_max =n_true[-1]"
   ]
  },
  {
   "cell_type": "code",
   "execution_count": 32,
   "metadata": {
    "collapsed": false
   },
   "outputs": [],
   "source": [
    "# predicted numbers of word with same frequency\n",
    "n = np.linspace(2,n_max,n_max-1)\n",
    "I_n  = 2*I_1/(n*(n + 1))"
   ]
  },
  {
   "cell_type": "code",
   "execution_count": 33,
   "metadata": {
    "collapsed": false,
    "scrolled": false
   },
   "outputs": [
    {
     "data": {
      "text/plain": [
       "<matplotlib.legend.Legend at 0x14576438>"
      ]
     },
     "execution_count": 33,
     "metadata": {},
     "output_type": "execute_result"
    },
    {
     "data": {
      "image/png": "[encoded data removed]",
      "text/plain": [
       "<matplotlib.figure.Figure at 0x131ce080>"
      ]
     },
     "metadata": {},
     "output_type": "display_data"
    }
   ],
   "source": [
    "fig,ax = plt.subplots( figsize = (10,8))\n",
    "\n",
    "ax.scatter(np.log(I_n_true), np.log(n_true), alpha = 0.3,label = \"actual data\")\n",
    "ax.set_title(\"log-log curve\")\n",
    "ax.set_xlabel(\"logarithm of frequncy\")\n",
    "ax.set_ylabel(\"logarithm of In\")\n",
    "\n",
    "ax.plot(np.log(I_n), np.log(n), color = \"k\", label =\"log-log curve of predicted data\")\n",
    "ax.legend()\n"
   ]
  },
  {
   "cell_type": "markdown",
   "metadata": {},
   "source": [
    "- 结论  \n",
    " - 在低频词段， 预测数据和实际数据几乎吻合。这说明齐夫第二定律适用低频词阶段的分布,使得低频词同频词数对数呈现线性递降。但是齐夫第二定律并不适用于高频词的分布,高频词同频词数对数的分布呈现出一种阶梯状下降的趋势,与齐夫第二定律并不吻合。   "
   ]
  },
  {
   "cell_type": "markdown",
   "metadata": {},
   "source": [
    "### 总结\n",
    "由以上的分析可以初步证明《天龙八部》的词频分布在高频词和中频词阶段符合齐夫第一定律的分布,而低频词段的词频分布则与齐夫第二定律的分布规律更为吻合，所以可以判定其词频分布符合齐夫定律。\n"
   ]
  }
 ],
 "metadata": {
  "anaconda-cloud": {},
  "kernelspec": {
   "display_name": "Python [Root]",
   "language": "python",
   "name": "Python [Root]"
  },
  "language_info": {
   "codemirror_mode": {
    "name": "ipython",
    "version": 2
   },
   "file_extension": ".py",
   "mimetype": "text/x-python",
   "name": "python",
   "nbconvert_exporter": "python",
   "pygments_lexer": "ipython2",
   "version": "2.7.12"
  }
 },
 "nbformat": 4,
 "nbformat_minor": 0
}
